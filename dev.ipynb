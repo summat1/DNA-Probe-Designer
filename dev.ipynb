{
 "cells": [
  {
   "cell_type": "code",
   "execution_count": null,
   "metadata": {},
   "outputs": [],
   "source": [
    "# GENERATE FILE FOR probeTm.py WITH TWO COLUMNS: SEQUENCE NUBMER AND PROBE SEQUENCE #\n",
    "read_filename = 'data/mouse_chr6/rosa26_probes_sC.bed'\n",
    "write_filename = 'data/mouse_chr6/rosa26_probes_TM.txt'\n",
    "\n",
    "# read file output from structureCheck.py #\n",
    "with open(read_filename) as file:\n",
    "    probes = [(k+1, line.split('\t')[3]) for k, line in enumerate(file)]\n",
    "\n",
    "# write to new file for input to probeTm.py #\n",
    "with open(write_filename, 'w') as file:\n",
    "    for probe in probes:\n",
    "        # file.write(f'{probe[0]}\\t{probe[1]}\\n')\n",
    "        pass"
   ]
  },
  {
   "cell_type": "code",
   "execution_count": 1,
   "metadata": {},
   "outputs": [
    {
     "name": "stdout",
     "output_type": "stream",
     "text": [
      "['1', 'GGGAGGAAAAGAAGCCAATCAGCGACGAGACGTCGG', '[0.81839899 0.65538112 0.33560065 0.08462265 0.02709411 0.00910175]']\n",
      "['2', 'CAAGTGCTTCCTGCCTCCAAAACAGCCCAACTGAGC', '[0.8074672  0.6201455  0.27239797 0.05632009 0.0170688  0.00465417]']\n",
      "['3', 'CCCTTACTGATAACAACTCAGAGCGACTTTGGGAGAG', '[0.8074672  0.6201455  0.27239797 0.05632009 0.0170688  0.00465417]']\n",
      "['4', 'GAACTCCCAGAAAGGTATTGCAACACTCCCCTCCCC', '[0.81543772 0.60521875 0.21347395 0.03128633 0.00769808 0.00113579]']\n",
      "['5', 'TTTAAGCCTGCCCAGAAGACTCCCGCCCATCTTCTA', '[0.79604135 0.5835962  0.21720679 0.03709984 0.01071219 0.0023747 ]']\n",
      "['6', 'TTTACACCTGTTCAATTCCCCTGCAGGACAACGCCCAC', '[8.69630403e-01 6.85707074e-01 2.39727088e-01 2.68779890e-02']\n",
      "['5.25931514e-03 4.99669417e-04]']\n",
      "['7', 'AAACCGAAAATCTGTGGGAAGTCTTGTCCCTCCAAT', '[8.69630403e-01 6.85707074e-01 2.39727088e-01 2.68779890e-02']\n",
      "['5.25931514e-03 4.99669417e-04]']\n",
      "['8', 'AGATGACTACCTATCCTCCCATTTTCCTTATTTGCCCCTAT', '[0.89219888 0.7752089  0.43644797 0.09309665 0.02134141 0.00377519]']\n",
      "['9', 'AGGGGTTGGATAAGCCAGTATAATAAATGAAAATGGGGCT', '[0.89219888 0.7752089  0.43644797 0.09309665 0.02134141 0.00377519]']\n",
      "['10', 'TCTAAGATCAGGAAAGGGAAAATGCCAATGCTCTGTCT', '[0.81839899 0.65538112 0.33560065 0.08462265 0.02709411 0.00910175]']\n",
      "['11', 'GCCTCGATTTGTGGTGTATGTAACTAATCTGTCTGGTTTCA', '[0.81839899 0.65538112 0.33560065 0.08462265 0.02709411 0.00910175]']\n",
      "['12', 'TTATAAAAGAACTGCAGTGTTGAGGCCCCAGCTACA', '[0.84099705 0.65365526 0.25572019 0.03901664 0.00949091 0.00152658]']\n",
      "['13', 'GGGAGAGGTGATAGACACTGAAAATTAAGGATCAAGGCAAA', '[0.79604135 0.5835962  0.21720679 0.03709984 0.01071219 0.0023747 ]']\n",
      "['14', 'TCACAAGACCTTAGGTCAGGAAAGACAACAAACACCTG', '[0.88508581 0.7475049  0.36467756 0.06215234 0.01341535 0.00192538]']\n",
      "['15', 'GCCCCTGGATAGTATTATTATAGAGCACAAGCACACACAAC', '[0.75578434 0.54799532 0.23215625 0.05360062 0.01924624 0.00722729]']\n"
     ]
    },
    {
     "ename": "NameError",
     "evalue": "name 'all_probs' is not defined",
     "output_type": "error",
     "traceback": [
      "\u001b[0;31m---------------------------------------------------------------------------\u001b[0m",
      "\u001b[0;31mNameError\u001b[0m                                 Traceback (most recent call last)",
      "\u001b[1;32m/net/beliveau/vol1/project/Nico/images_for_blippy/DNA-Probe-Designer/dev.ipynb Cell 2\u001b[0m line \u001b[0;36m8\n\u001b[1;32m      <a href='vscode-notebook-cell://tunnel%2Bvsc_tunnel/net/beliveau/vol1/project/Nico/images_for_blippy/DNA-Probe-Designer/dev.ipynb#W1sdnNjb2RlLXJlbW90ZQ%3D%3D?line=3'>4</a>\u001b[0m filtered_filename \u001b[39m=\u001b[39m \u001b[39m'\u001b[39m\u001b[39mdata/target_seqs/rosa26_against_full/rosa26_probes_sC_filtered.txt\u001b[39m\u001b[39m'\u001b[39m\n\u001b[1;32m      <a href='vscode-notebook-cell://tunnel%2Bvsc_tunnel/net/beliveau/vol1/project/Nico/images_for_blippy/DNA-Probe-Designer/dev.ipynb#W1sdnNjb2RlLXJlbW90ZQ%3D%3D?line=5'>6</a>\u001b[0m \u001b[39m###################################################################################################\u001b[39;00m\n\u001b[0;32m----> <a href='vscode-notebook-cell://tunnel%2Bvsc_tunnel/net/beliveau/vol1/project/Nico/images_for_blippy/DNA-Probe-Designer/dev.ipynb#W1sdnNjb2RlLXJlbW90ZQ%3D%3D?line=7'>8</a>\u001b[0m plot_duplex_prob(filtered_filename)\n",
      "File \u001b[0;32m/net/beliveau/vol1/project/Nico/images_for_blippy/DNA-Probe-Designer/duplex_prob.py:118\u001b[0m, in \u001b[0;36mplot_duplex_prob\u001b[0;34m(filtered_filename, probe_num)\u001b[0m\n\u001b[1;32m    116\u001b[0m \u001b[39mif\u001b[39;00m probe_num \u001b[39m==\u001b[39m \u001b[39m'\u001b[39m\u001b[39mall\u001b[39m\u001b[39m'\u001b[39m:\n\u001b[1;32m    117\u001b[0m     plt\u001b[39m.\u001b[39mfigure(figsize\u001b[39m=\u001b[39m(\u001b[39m8\u001b[39m, \u001b[39m6\u001b[39m))\n\u001b[0;32m--> 118\u001b[0m     \u001b[39mfor\u001b[39;00m k \u001b[39min\u001b[39;00m \u001b[39mrange\u001b[39m(\u001b[39mlen\u001b[39m(all_probs)):\n\u001b[1;32m    119\u001b[0m         plt\u001b[39m.\u001b[39mplot(temps, all_probs[k])\n\u001b[1;32m    120\u001b[0m     plt\u001b[39m.\u001b[39mxticks(temps)\n",
      "\u001b[0;31mNameError\u001b[0m: name 'all_probs' is not defined"
     ]
    },
    {
     "data": {
      "text/plain": [
       "<Figure size 800x600 with 0 Axes>"
      ]
     },
     "metadata": {},
     "output_type": "display_data"
    }
   ],
   "source": [
    "# PLOTTING RESULTS FROM duplex_prob.py #\n",
    "from duplex_prob import plot_duplex_prob\n",
    "\n",
    "filtered_filename = 'data/target_seqs/rosa26_against_full/rosa26_probes_sC_filtered.txt'\n",
    "\n",
    "###################################################################################################\n",
    "\n",
    "plot_duplex_prob(filtered_filename)"
   ]
  },
  {
   "cell_type": "code",
   "execution_count": 1,
   "metadata": {},
   "outputs": [
    {
     "name": "stdout",
     "output_type": "stream",
     "text": [
      "<class 'list'>\n"
     ]
    },
    {
     "ename": "TypeError",
     "evalue": "unsupported format string passed to numpy.ndarray.__format__",
     "output_type": "error",
     "traceback": [
      "\u001b[0;31m---------------------------------------------------------------------------\u001b[0m",
      "\u001b[0;31mTypeError\u001b[0m                                 Traceback (most recent call last)",
      "\u001b[1;32m/net/beliveau/vol1/project/Nico/images_for_blippy/DNA-Probe-Designer/dev.ipynb Cell 3\u001b[0m line \u001b[0;36m6\n\u001b[1;32m      <a href='vscode-notebook-cell://tunnel%2Bvsc_tunnel/net/beliveau/vol1/project/Nico/images_for_blippy/DNA-Probe-Designer/dev.ipynb#W3sdnNjb2RlLXJlbW90ZQ%3D%3D?line=2'>3</a>\u001b[0m sam_file \u001b[39m=\u001b[39m \u001b[39m'\u001b[39m\u001b[39mdata/target_seqs/rosa26_against_full/rosa26.sam\u001b[39m\u001b[39m'\u001b[39m\n\u001b[1;32m      <a href='vscode-notebook-cell://tunnel%2Bvsc_tunnel/net/beliveau/vol1/project/Nico/images_for_blippy/DNA-Probe-Designer/dev.ipynb#W3sdnNjb2RlLXJlbW90ZQ%3D%3D?line=3'>4</a>\u001b[0m bed_file \u001b[39m=\u001b[39m \u001b[39m'\u001b[39m\u001b[39mdata/target_seqs/rosa26_against_full/rosa26_probes_sC.bed\u001b[39m\u001b[39m'\u001b[39m\n\u001b[0;32m----> <a href='vscode-notebook-cell://tunnel%2Bvsc_tunnel/net/beliveau/vol1/project/Nico/images_for_blippy/DNA-Probe-Designer/dev.ipynb#W3sdnNjb2RlLXJlbW90ZQ%3D%3D?line=5'>6</a>\u001b[0m filter_duplex_prob(sam_file, bed_file, filter_temp\u001b[39m=\u001b[39;49m\u001b[39m42\u001b[39;49m, filter_prob\u001b[39m=\u001b[39;49m\u001b[39m0.2\u001b[39;49m)\n",
      "File \u001b[0;32m/net/beliveau/vol1/project/Nico/images_for_blippy/DNA-Probe-Designer/duplex_prob.py:92\u001b[0m, in \u001b[0;36mfilter_duplex_prob\u001b[0;34m(sam_filename, bed_filename, filter_temp, filter_prob)\u001b[0m\n\u001b[1;32m     90\u001b[0m file\u001b[39m.\u001b[39mwrite(\u001b[39mf\u001b[39m\u001b[39m'\u001b[39m\u001b[39m{\u001b[39;00m\u001b[39mlen\u001b[39m(all_probs)\u001b[39m}\u001b[39;00m\u001b[39m probes passed filtering with thresholds set to T=\u001b[39m\u001b[39m{\u001b[39;00mfilter_temp\u001b[39m}\u001b[39;00m\u001b[39mC and PDup=\u001b[39m\u001b[39m{\u001b[39;00mfilter_prob\u001b[39m}\u001b[39;00m\u001b[39m \u001b[39m\u001b[39m\\n\u001b[39;00m\u001b[39m'\u001b[39m)\n\u001b[1;32m     91\u001b[0m \u001b[39mfor\u001b[39;00m k, seq, probs \u001b[39min\u001b[39;00m \u001b[39mzip\u001b[39m(\u001b[39mrange\u001b[39m(\u001b[39mlen\u001b[39m(seqs)), seqs, all_probs):\n\u001b[0;32m---> 92\u001b[0m     file\u001b[39m.\u001b[39mwrite(\u001b[39mf\u001b[39m\u001b[39m'\u001b[39m\u001b[39m{\u001b[39;00mk\u001b[39m+\u001b[39m\u001b[39m1\u001b[39m\u001b[39m}\u001b[39;00m\u001b[39m, \u001b[39m\u001b[39m{\u001b[39;00mseq\u001b[39m}\u001b[39;00m\u001b[39m, \u001b[39m\u001b[39m{\u001b[39;00mprobs\u001b[39m:\u001b[39;00m\u001b[39m.2f\u001b[39m\u001b[39m}\u001b[39;00m\u001b[39m \u001b[39m\u001b[39m\\n\u001b[39;00m\u001b[39m'\u001b[39m)\n",
      "\u001b[0;31mTypeError\u001b[0m: unsupported format string passed to numpy.ndarray.__format__"
     ]
    }
   ],
   "source": [
    "from duplex_prob import filter_duplex_prob\n",
    "\n",
    "sam_file = 'data/target_seqs/rosa26_against_full/rosa26.sam'\n",
    "bed_file = 'data/target_seqs/rosa26_against_full/rosa26_probes_sC.bed'\n",
    "\n",
    "filter_duplex_prob(sam_file, bed_file, filter_temp=42, filter_prob=0.2)"
   ]
  }
 ],
 "metadata": {
  "kernelspec": {
   "display_name": "classify",
   "language": "python",
   "name": "python3"
  },
  "language_info": {
   "codemirror_mode": {
    "name": "ipython",
    "version": 3
   },
   "file_extension": ".py",
   "mimetype": "text/x-python",
   "name": "python",
   "nbconvert_exporter": "python",
   "pygments_lexer": "ipython3",
   "version": "3.11.4"
  }
 },
 "nbformat": 4,
 "nbformat_minor": 2
}
